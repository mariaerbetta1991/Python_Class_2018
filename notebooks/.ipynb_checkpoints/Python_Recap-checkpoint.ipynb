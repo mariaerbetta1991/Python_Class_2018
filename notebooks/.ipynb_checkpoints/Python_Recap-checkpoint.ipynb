{
 "cells": [
  {
   "cell_type": "markdown",
   "metadata": {},
   "source": [
    "# Intermediate Python | Let's Start!"
   ]
  },
  {
   "cell_type": "markdown",
   "metadata": {},
   "source": [
    "**Overview**:<br>\n",
    "\n",
    "In today's lesson, we will show some important basics of python.<br>\n",
    "As codingskill comes with practice, we skip long introductions and start coding with you right away ;)<br>\n",
    "\n",
    "\n",
    "**What we will do today:**<br>\n",
    "\n",
    "- variables\n",
    "- data types\n",
    "- printing\n",
    "- data structures (lists, dictionaries)\n",
    "- data structure manipulation\n",
    "\n",
    "**Important Notes**:<br>\n",
    "Take your time and if you are stuck, we are ready to help :). Also remember: google is your friend!"
   ]
  },
  {
   "cell_type": "markdown",
   "metadata": {},
   "source": [
    "## 1. Variables\n",
    "We save information in variables. For example, your teacher's age and height:"
   ]
  },
  {
   "cell_type": "code",
   "execution_count": 1,
   "metadata": {},
   "outputs": [],
   "source": [
    "age = 27\n",
    "height = 1.91"
   ]
  },
  {
   "cell_type": "markdown",
   "metadata": {},
   "source": [
    "27 is now saved to the variable 'age':"
   ]
  },
  {
   "cell_type": "code",
   "execution_count": 3,
   "metadata": {},
   "outputs": [
    {
     "data": {
      "text/plain": [
       "27"
      ]
     },
     "execution_count": 3,
     "metadata": {},
     "output_type": "execute_result"
    }
   ],
   "source": [
    "age"
   ]
  },
  {
   "cell_type": "code",
   "execution_count": 5,
   "metadata": {},
   "outputs": [],
   "source": [
    "# to-do: Do the same for the height variable"
   ]
  },
  {
   "cell_type": "markdown",
   "metadata": {},
   "source": [
    "A variable can have different data types in python. Let's check what type of variable 'age' is:"
   ]
  },
  {
   "cell_type": "code",
   "execution_count": 6,
   "metadata": {},
   "outputs": [
    {
     "data": {
      "text/plain": [
       "int"
      ]
     },
     "execution_count": 6,
     "metadata": {},
     "output_type": "execute_result"
    }
   ],
   "source": [
    "type(age)"
   ]
  },
  {
   "cell_type": "markdown",
   "metadata": {},
   "source": [
    "So its an int, or integer. There are also other types."
   ]
  },
  {
   "cell_type": "code",
   "execution_count": 7,
   "metadata": {},
   "outputs": [],
   "source": [
    "# what is the data type of the 'height' variable?"
   ]
  },
  {
   "cell_type": "markdown",
   "metadata": {},
   "source": [
    "With integers and floats, we can calculate stuff (like on a caclulator)!"
   ]
  },
  {
   "cell_type": "code",
   "execution_count": 15,
   "metadata": {},
   "outputs": [
    {
     "data": {
      "text/plain": [
       "2.91"
      ]
     },
     "execution_count": 15,
     "metadata": {},
     "output_type": "execute_result"
    }
   ],
   "source": [
    "height + 1"
   ]
  },
  {
   "cell_type": "code",
   "execution_count": 16,
   "metadata": {},
   "outputs": [
    {
     "data": {
      "text/plain": [
       "28.91"
      ]
     },
     "execution_count": 16,
     "metadata": {},
     "output_type": "execute_result"
    }
   ],
   "source": [
    "age + height"
   ]
  },
  {
   "cell_type": "code",
   "execution_count": 17,
   "metadata": {},
   "outputs": [],
   "source": [
    "# to-do: how old is your teacher in 31 years?"
   ]
  },
  {
   "cell_type": "markdown",
   "metadata": {},
   "source": [
    "##### Strings\n",
    "Strings are a special kind of data types. With 'strings' we mean text. We start and end a string with ' or \":"
   ]
  },
  {
   "cell_type": "code",
   "execution_count": 18,
   "metadata": {},
   "outputs": [
    {
     "data": {
      "text/plain": [
       "'python is cool!'"
      ]
     },
     "execution_count": 18,
     "metadata": {},
     "output_type": "execute_result"
    }
   ],
   "source": [
    "\"python is cool!\""
   ]
  },
  {
   "cell_type": "markdown",
   "metadata": {},
   "source": [
    "With 'print' we tell the computer to print the string on the screen:"
   ]
  },
  {
   "cell_type": "code",
   "execution_count": 21,
   "metadata": {},
   "outputs": [
    {
     "name": "stdout",
     "output_type": "stream",
     "text": [
      "python is cool!\n"
     ]
    }
   ],
   "source": [
    "print(\"python is cool!\")"
   ]
  },
  {
   "cell_type": "code",
   "execution_count": 22,
   "metadata": {},
   "outputs": [],
   "source": [
    "# to-do: print your name"
   ]
  },
  {
   "cell_type": "markdown",
   "metadata": {},
   "source": [
    "You can 'glue' strings together. For example:"
   ]
  },
  {
   "cell_type": "code",
   "execution_count": 25,
   "metadata": {},
   "outputs": [
    {
     "name": "stdout",
     "output_type": "stream",
     "text": [
      "hello world!\n"
     ]
    }
   ],
   "source": [
    "print('hello '+'world!')"
   ]
  },
  {
   "cell_type": "code",
   "execution_count": 20,
   "metadata": {},
   "outputs": [
    {
     "name": "stdout",
     "output_type": "stream",
     "text": [
      "\n"
     ]
    }
   ],
   "source": [
    "a = \"I like \"\n",
    "b = \"Hamburgers \"\n",
    "c = \"Taco's \"\n",
    "d = \"Pancakes \"\n",
    "e = \"Beer \"\n",
    "\n",
    "# to-do: tell us what you like (a + ...???)\n",
    "print()"
   ]
  },
  {
   "cell_type": "markdown",
   "metadata": {},
   "source": [
    "## 2. Lists\n",
    "\n",
    "A list is a collection of items. For example a shopping-list:"
   ]
  },
  {
   "cell_type": "code",
   "execution_count": 30,
   "metadata": {},
   "outputs": [
    {
     "data": {
      "text/plain": [
       "['bread', 'butter', 'cola', 'chips']"
      ]
     },
     "execution_count": 30,
     "metadata": {},
     "output_type": "execute_result"
    }
   ],
   "source": [
    "shopping_list = ['bread', 'butter', 'cola', 'chips']\n",
    "shopping_list"
   ]
  },
  {
   "cell_type": "markdown",
   "metadata": {},
   "source": [
    "Lets create a list of programming languages:"
   ]
  },
  {
   "cell_type": "code",
   "execution_count": 31,
   "metadata": {},
   "outputs": [],
   "source": [
    "programming_languages = [\"Python\", \"Java\", \"Haskell\", \"Scala\", \"C#\", \"JavaScript\", \"HTML\", \"Matlab\", \"CSS\", \"Go\"]"
   ]
  },
  {
   "cell_type": "code",
   "execution_count": 39,
   "metadata": {},
   "outputs": [],
   "source": [
    "# to-do: print all entries from the list below one after another :)"
   ]
  },
  {
   "cell_type": "markdown",
   "metadata": {},
   "source": [
    "Expected output:\n",
    "\n",
    "```\n",
    "Python\n",
    "Java\n",
    "Haskell\n",
    "Scala\n",
    "C#\n",
    "JavaScript\n",
    "HTML\n",
    "Matlab\n",
    "CSS\n",
    "Go\n",
    "```"
   ]
  },
  {
   "cell_type": "markdown",
   "metadata": {},
   "source": [
    "We just want the actual programming languages from the list above (HTML and CSS are none). "
   ]
  },
  {
   "cell_type": "code",
   "execution_count": 41,
   "metadata": {},
   "outputs": [],
   "source": [
    "# to-do: Remove the two elements from the list and print it."
   ]
  },
  {
   "cell_type": "markdown",
   "metadata": {},
   "source": [
    "Expected output:\n",
    "\n",
    "```\n",
    "['Python', 'Java', 'Haskell', 'Scala', 'C#', 'JavaScript', 'Matlab', 'Go']\n",
    "```"
   ]
  },
  {
   "cell_type": "markdown",
   "metadata": {},
   "source": [
    "COBOL is a very old programming language. Lets add it to our list and print the result. How many items are in the list now?"
   ]
  },
  {
   "cell_type": "code",
   "execution_count": 44,
   "metadata": {},
   "outputs": [],
   "source": [
    "# to-do: add COBOL to the list, print it and count the number of elements."
   ]
  },
  {
   "cell_type": "markdown",
   "metadata": {},
   "source": [
    "Expected output:\n",
    "\n",
    "```\n",
    "['Python', 'Java', 'Haskell', 'Scala', 'C#', 'JavaScript', 'Matlab', 'Go', 'COBOL']\n",
    "9\n",
    "```"
   ]
  },
  {
   "cell_type": "markdown",
   "metadata": {},
   "source": [
    "Can you reverse the list? (Remember: Google is your friend!)"
   ]
  },
  {
   "cell_type": "code",
   "execution_count": 8,
   "metadata": {},
   "outputs": [],
   "source": [
    "# to-do: reverse the list"
   ]
  },
  {
   "cell_type": "markdown",
   "metadata": {},
   "source": [
    "Expected output:\n",
    "\n",
    "```\n",
    "['COBOL', 'Go', 'Matlab', 'JavaScript', 'C#', 'Scala', 'Haskell', 'Java', 'Python']\n",
    "```"
   ]
  },
  {
   "cell_type": "markdown",
   "metadata": {},
   "source": [
    "#### BONUS: There is a new list that stores some languages multiple times. Can you write a function that takes a list and stores the unique entries only in a new list? "
   ]
  },
  {
   "cell_type": "code",
   "execution_count": null,
   "metadata": {},
   "outputs": [],
   "source": [
    "programming_languages2 = ['COBOL','Scala', 'Scala', 'Python', 'Go', 'Matlab', 'Python', 'JavaScript','Go', 'C#','Python', 'Scala', 'Haskell', 'Java', 'Python']\n",
    "\n",
    "def unique_values(liste):\n",
    "    #your code comes here"
   ]
  },
  {
   "cell_type": "markdown",
   "metadata": {},
   "source": [
    "Expected output:\n",
    "\n",
    "```\n",
    "['COBOL', 'Scala', 'Python', 'Go', 'Matlab', 'JavaScript', 'C#', 'Haskell', 'Java']\n",
    "```"
   ]
  },
  {
   "cell_type": "markdown",
   "metadata": {},
   "source": [
    "## 3. Dictionaries\n",
    "\n",
    "Dictionaries are also what they sound like - a list of definitions that correspond to unique terms. \n",
    "For example age={'Jose':28,  'Jonas':26, 'Stefan': 27}"
   ]
  },
  {
   "cell_type": "markdown",
   "metadata": {},
   "source": [
    "Let's create a dictionary of cities with its population:"
   ]
  },
  {
   "cell_type": "code",
   "execution_count": 45,
   "metadata": {},
   "outputs": [
    {
     "data": {
      "text/plain": [
       "{'Tokyo': 13350000,\n",
       " 'Los Angeles': 18550000,\n",
       " 'New York City': 8400000,\n",
       " 'San Francisco': 1837442}"
      ]
     },
     "execution_count": 45,
     "metadata": {},
     "output_type": "execute_result"
    }
   ],
   "source": [
    "city_population = {\n",
    "    'Tokyo': 13350000,\n",
    "    'Los Angeles': 18550000,\n",
    "    'New York City': 8400000,\n",
    "    'San Francisco': 1837442,\n",
    "}\n",
    "city_population"
   ]
  },
  {
   "cell_type": "code",
   "execution_count": 37,
   "metadata": {},
   "outputs": [],
   "source": [
    "# to-do: Print the population of New York City"
   ]
  },
  {
   "cell_type": "code",
   "execution_count": 38,
   "metadata": {},
   "outputs": [],
   "source": [
    "# to-do: Add Munich to the dictionairy (Munich has population of 1464301)"
   ]
  },
  {
   "cell_type": "code",
   "execution_count": null,
   "metadata": {},
   "outputs": [],
   "source": []
  }
 ],
 "metadata": {
  "kernelspec": {
   "display_name": "Python 3",
   "language": "python",
   "name": "python3"
  },
  "language_info": {
   "codemirror_mode": {
    "name": "ipython",
    "version": 3
   },
   "file_extension": ".py",
   "mimetype": "text/x-python",
   "name": "python",
   "nbconvert_exporter": "python",
   "pygments_lexer": "ipython3",
   "version": "3.6.5"
  }
 },
 "nbformat": 4,
 "nbformat_minor": 2
}
