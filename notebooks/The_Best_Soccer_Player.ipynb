{
 "cells": [
  {
   "cell_type": "markdown",
   "metadata": {},
   "source": [
    "# Homework  - The Best Soccer Player"
   ]
  },
  {
   "cell_type": "markdown",
   "metadata": {},
   "source": [
    "### In this exercise you will find the best socces player, according to fifa ranking\n",
    "You will do this using your python knowledge about variables and lists!\n",
    "Remember: Press the Run button to execute code"
   ]
  },
  {
   "cell_type": "code",
   "execution_count": 19,
   "metadata": {},
   "outputs": [],
   "source": [
    "# just execute this code, you don't have to understand it (yet;)\n",
    "import pandas as pd\n",
    "df = pd.read_csv(\"fifa.csv\")\n",
    "name = list(df.iloc[:,1])\n",
    "rating = list(df.iloc[:,2])\n",
    "height = list(df.iloc[:,4])\n",
    "foot = list(df.iloc[:,5])"
   ]
  },
  {
   "cell_type": "markdown",
   "metadata": {},
   "source": [
    "We have 4 python lists with data about soccer players, with the following names: \"name\", \"rating\", \"height\", \"foot\". \n",
    "\n",
    "In \"name\", we got all the names of the players. Rating defines how good a player is. We also have the player's height and his preference for playing with his Right or Left foot.\n",
    "\n",
    "Lets look at the \"name\" list:"
   ]
  },
  {
   "cell_type": "code",
   "execution_count": 27,
   "metadata": {},
   "outputs": [
    {
     "data": {
      "text/plain": [
       "[' Gábor Király',\n",
       " ' Frederik Boi',\n",
       " ' Tomasz Szewczuk',\n",
       " ' Steeve Joseph-Reinette',\n",
       " ' Kamel Chafni']"
      ]
     },
     "execution_count": 27,
     "metadata": {},
     "output_type": "execute_result"
    }
   ],
   "source": [
    "name[0:5]"
   ]
  },
  {
   "cell_type": "code",
   "execution_count": 28,
   "metadata": {},
   "outputs": [],
   "source": [
    "# show the first 5 entries of the rating list"
   ]
  },
  {
   "cell_type": "markdown",
   "metadata": {},
   "source": [
    "With the max() function, we find the maximum of a list. For example, if we want the height (in cm) of the tallest person:"
   ]
  },
  {
   "cell_type": "code",
   "execution_count": 29,
   "metadata": {},
   "outputs": [
    {
     "data": {
      "text/plain": [
       "208"
      ]
     },
     "execution_count": 29,
     "metadata": {},
     "output_type": "execute_result"
    }
   ],
   "source": [
    "max(height)"
   ]
  },
  {
   "cell_type": "code",
   "execution_count": 23,
   "metadata": {},
   "outputs": [],
   "source": [
    "# to-do: find the highest rating in the 'rating' list and save this to the variable 'max_rating'\n",
    "max_rating = "
   ]
  },
  {
   "cell_type": "markdown",
   "metadata": {},
   "source": [
    "We can do a lot of stuff with lists in Python. With the following line of code, we find the place in the list (index) where the rating is the highest. You don't have to fully understand this line of code yet. Just run it for now! :)"
   ]
  },
  {
   "cell_type": "code",
   "execution_count": 30,
   "metadata": {},
   "outputs": [
    {
     "data": {
      "text/plain": [
       "2195"
      ]
     },
     "execution_count": 30,
     "metadata": {},
     "output_type": "execute_result"
    }
   ],
   "source": [
    "index_best_player = rating.index(max_rating)\n",
    "index_best_player"
   ]
  },
  {
   "cell_type": "markdown",
   "metadata": {},
   "source": [
    "So player number 2195 is the best player. We just need to know what his name is!"
   ]
  },
  {
   "cell_type": "code",
   "execution_count": 31,
   "metadata": {},
   "outputs": [],
   "source": [
    "# To-do: What is worlds best soccer player?"
   ]
  },
  {
   "cell_type": "code",
   "execution_count": 32,
   "metadata": {},
   "outputs": [],
   "source": [
    "# To-do: Does he plays with his Right or Left foot?"
   ]
  },
  {
   "cell_type": "code",
   "execution_count": null,
   "metadata": {},
   "outputs": [],
   "source": []
  }
 ],
 "metadata": {
  "kernelspec": {
   "display_name": "Python 3",
   "language": "python",
   "name": "python3"
  },
  "language_info": {
   "codemirror_mode": {
    "name": "ipython",
    "version": 3
   },
   "file_extension": ".py",
   "mimetype": "text/x-python",
   "name": "python",
   "nbconvert_exporter": "python",
   "pygments_lexer": "ipython3",
   "version": "3.6.5"
  }
 },
 "nbformat": 4,
 "nbformat_minor": 2
}
